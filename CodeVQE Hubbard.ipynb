{
 "cells": [
  {
   "cell_type": "code",
   "execution_count": 1,
   "metadata": {},
   "outputs": [
    {
     "name": "stderr",
     "output_type": "stream",
     "text": [
      "using legacy validation callback\n",
      "c:\\Python312\\Lib\\site-packages\\tqdm\\auto.py:21: TqdmWarning: IProgress not found. Please update jupyter and ipywidgets. See https://ipywidgets.readthedocs.io/en/stable/user_install.html\n",
      "  from .autonotebook import tqdm as notebook_tqdm\n"
     ]
    }
   ],
   "source": [
    "from qat.core import Term\n",
    "from qat.fermion.hamiltonians import FermionHamiltonian\n",
    "from qat.lang import *\n",
    "from qat.qpus import get_default_qpu\n",
    "from qat.plugins import ScipyMinimizePlugin\n",
    "import numpy as np"
   ]
  },
  {
   "cell_type": "markdown",
   "metadata": {},
   "source": [
    "On commence d'abord par définir l'opérateur $c^{\\dagger}_{i, \\sigma1}c_{j, \\sigma2}$ qui va être utilisé pour définir le hamiltonien :"
   ]
  },
  {
   "cell_type": "code",
   "execution_count": null,
   "metadata": {},
   "outputs": [],
   "source": [
    "n_qubits = int(input())\n",
    "\n",
    "#Definition de l'operateur c^{dague}_{i, \\sigma1}c{j, \\sigma2} \n",
    "def couplingOp(energy, i, j, spin_i, spin_j) : #i est le numéro du site\n",
    "    if spin_i == \"+\" :\n",
    "         if spin_j == \"-\" :\n",
    "            return FermionHamiltonian(n_qubits, [Term(energy, \"Cc\", [i, j+1])])\n",
    "         else :\n",
    "             return FermionHamiltonian(n_qubits, [Term(energy, \"Cc\", [i, j])])\n",
    "    else :\n",
    "        if spin_j == \"-\" :\n",
    "            return FermionHamiltonian(n_qubits, [Term(energy, \"Cc\", [i+1, j+1])])\n",
    "        else :\n",
    "             return FermionHamiltonian(n_qubits, [Term(energy, \"Cc\", [i+1, j])]) \n",
    "        \n",
    "def nOp(energy, i, spin) :\n",
    "    return couplingOp(energy, i, i, spin, spin)\n",
    "    "
   ]
  },
  {
   "cell_type": "markdown",
   "metadata": {},
   "source": [
    "Definition de l'Hamiltonien"
   ]
  },
  {
   "cell_type": "code",
   "execution_count": null,
   "metadata": {},
   "outputs": [
    {
     "name": "stdout",
     "output_type": "stream",
     "text": [
      "0\n",
      "(-0.25+0j) * I^6 +\n",
      "(0.25+0j) * (ZZ|[0, 1]) +\n",
      "(0.25+0j) * (Z|[0]) +\n",
      "(0.25+0j) * (Z|[1]) +\n",
      "(0.5+0j) * (XZX|[0, 1, 2]) +\n",
      "(0.5+0j) * (YZY|[0, 1, 2]) +\n",
      "(0.5+0j) * (XZX|[1, 2, 3]) +\n",
      "(0.5+0j) * (YZY|[1, 2, 3]) +\n",
      "(0.5+0j) * (YY|[1, 2]) +\n",
      "(0.5+0j) * (XX|[1, 2]) +\n",
      "(0.5+0j) * (XZZX|[0, 1, 2, 3]) +\n",
      "(0.5+0j) * (YZZY|[0, 1, 2, 3]) +\n",
      "(-0.25+0j) * (Z|[2]) +\n",
      "(-0.25+0j) * (Z|[3])\n"
     ]
    }
   ],
   "source": [
    "#Definition de l'hamiltonien\n",
    "def hamiltonian(n_impurities, n_qubits, mu, t, U, V, epsilon) :\n",
    "    H_repulsion = 0\n",
    "    H_hopping = 0\n",
    "    H_chem = 0\n",
    "    for wire in range(0, 2*n_impurities, 2) :\n",
    "        #Calcul du terme d'origine chimique\n",
    "        H_chem += nOp(-mu, wire, \"+\")\n",
    "        H_chem += nOp(-mu, wire, \"-\")\n",
    "\n",
    "        #Calcul du terme d'effet tunnel entre impuretés\n",
    "        for wire2 in range(0, 2*n_impurities, 2) :\n",
    "            if wire2 != wire :\n",
    "                H_hopping += couplingOp(-t, wire, wire2, \"+\", \"-\")\n",
    "                H_hopping += couplingOp(-t, wire, wire2, \"+\", \"+\")\n",
    "                H_hopping += couplingOp(-t, wire, wire2, \"-\", \"-\")\n",
    "                H_hopping += couplingOp(-t, wire, wire2, \"-\", \"+\")\n",
    "            else :\n",
    "                #Calcul du terme de répulsion\n",
    "                H_repulsion += nOp(U, wire, \"+\")*nOp(1, wire,\"-\")\n",
    "    \n",
    "    H_impurity_bath = 0\n",
    "    H_bath = 0\n",
    "    for wire3 in range(2*n_impurities, n_qubits, 2) :\n",
    "        i = (wire3 - 2*n_impurities) // 2\n",
    "        print(i)\n",
    "        e = epsilon[i]\n",
    "        #Calcul du terme lié au bain\n",
    "        H_bath += nOp(e, wire3, \"+\")\n",
    "        H_bath += nOp(e, wire3, \"-\")\n",
    "\n",
    "        for wire4 in range(0, 2*n_impurities, 2) :\n",
    "            #Calcul du terme d'interaction impureté-bain\n",
    "            j = wire4 // 2\n",
    "            v = V[j][i]\n",
    "            v_conj = v.conjugate()\n",
    "            H_impurity_bath += couplingOp(v, wire4, wire3, \"+\", \"-\")\n",
    "            H_impurity_bath += couplingOp(v_conj, wire3, wire4, \"+\", \"-\")\n",
    "\n",
    "            H_impurity_bath += couplingOp(v, wire4, wire3, \"+\", \"+\")\n",
    "            H_impurity_bath += couplingOp(v_conj, wire3, wire4, \"+\", \"+\")\n",
    "\n",
    "            H_impurity_bath += couplingOp(v, wire4, wire3, \"-\", \"-\")\n",
    "            H_impurity_bath += couplingOp(v_conj, wire3, wire4, \"-\", \"-\")\n",
    "\n",
    "            H_impurity_bath += couplingOp(v, wire4, wire3, \"-\", \"+\")\n",
    "            H_impurity_bath += couplingOp(v_conj, wire3, wire4, \"-\", \"+\")\n",
    "        \n",
    "    H_anderson = H_repulsion + H_chem + H_impurity_bath + H_bath + H_hopping\n",
    "    H_spin = H_anderson.to_spin(method = \"jordan-wigner\")#Fermion to Qubit\n",
    "    return H_spin, H_spin.get_matrix()\n",
    "\n",
    "AndersonHamiltonian, matrix = hamiltonian(1, 4, 1, 1, 1, [[1]], [0.5]) \n",
    "print(AndersonHamiltonian)"
   ]
  },
  {
   "cell_type": "markdown",
   "metadata": {},
   "source": [
    "Conception du circuit :"
   ]
  },
  {
   "cell_type": "code",
   "execution_count": 1,
   "metadata": {},
   "outputs": [
    {
     "ename": "SyntaxError",
     "evalue": "incomplete input (2202165594.py, line 3)",
     "output_type": "error",
     "traceback": [
      "\u001b[1;36m  Cell \u001b[1;32mIn[1], line 3\u001b[1;36m\u001b[0m\n\u001b[1;33m    \u001b[0m\n\u001b[1;37m    ^\u001b[0m\n\u001b[1;31mSyntaxError\u001b[0m\u001b[1;31m:\u001b[0m incomplete input\n"
     ]
    }
   ],
   "source": [
    "@qrout\n",
    "def circuit(params) :\n",
    "    "
   ]
  }
 ],
 "metadata": {
  "kernelspec": {
   "display_name": "Python 3",
   "language": "python",
   "name": "python3"
  },
  "language_info": {
   "codemirror_mode": {
    "name": "ipython",
    "version": 3
   },
   "file_extension": ".py",
   "mimetype": "text/x-python",
   "name": "python",
   "nbconvert_exporter": "python",
   "pygments_lexer": "ipython3",
   "version": "3.12.1"
  }
 },
 "nbformat": 4,
 "nbformat_minor": 2
}
